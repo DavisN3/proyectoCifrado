{
  "nbformat": 4,
  "nbformat_minor": 0,
  "metadata": {
    "colab": {
      "provenance": []
    },
    "kernelspec": {
      "name": "python3",
      "display_name": "Python 3"
    },
    "language_info": {
      "name": "python"
    }
  },
  "cells": [
    {
      "cell_type": "markdown",
      "source": [
        "##Encriptador:"
      ],
      "metadata": {
        "id": "UD6R6U-7YX1o"
      }
    },
    {
      "cell_type": "code",
      "execution_count": 1,
      "metadata": {
        "colab": {
          "base_uri": "https://localhost:8080/"
        },
        "id": "Ul8A5GhnYGRa",
        "outputId": "7daa69bf-1f72-48fd-bc21-30c882d1f650"
      },
      "outputs": [
        {
          "output_type": "stream",
          "name": "stdout",
          "text": [
            "Texto a cifrar: Hola Buenos dias como estan gente aqui cifrando un mensaje con un viejo amigo, FELIZ LUNES\n",
            "\n",
            "Texto cifrado: Ipmb Cvfopt glbejbt dpnp ftubo hfouf brvj djgsboep vo nfotbkf dpo vo wjfkp bnjhp, GFMJA MVOFT\n",
            "\n",
            "escencialmente no se imprimiran:\n",
            "Reglas guardadas:  glb \n",
            "Posicion en cadena: 12\n"
          ]
        }
      ],
      "source": [
        "import random\n",
        "alpha_base = list(\"abcdefghijklmnopqrstuvwxyz\") #Alfabeto estandar\n",
        "def cifrado_atedv2(texto):\n",
        "  desplazamiento = random.randint(1,25) #el desplazamiento sera aleatorio\n",
        "  orden=random.choice([\"AD\",\"DA\"])#Aqui se definira el orden del alfabeto a usar\n",
        "  #Valor aleatorio para AD_DA\n",
        "  A=(random.randint(0, 23)) #Una letra random del alfabeto\n",
        "  D=(random.randint(A+1, 25)) #Otra letra random de indice mayor que A\n",
        "  if orden==\"AD\":\n",
        "    alfa=alpha_base\n",
        "    AD_DA=str(alpha_base[A]) + str(alpha_base[D])\n",
        "  if orden==\"DA\":\n",
        "    alfa=list(\"zyxwvutsrqponmlkjihgfedcba\") #Alfabeto inverso en caso de \"DA\"\n",
        "    AD_DA=str(alpha_base[D]) + str(alpha_base[A])\n",
        "  alpha = alfa\n",
        "  texto_cifrado = [] # Los caracteres se guardaran en una lista de 1 en 1\n",
        "  for char in texto:  #Se repetira por la longitud de caracteres en el texto\n",
        "    if char.isalpha():  #Identificar si es una letra del alfabeto\n",
        "      char_minus = char.lower() # Convertimos la letra a minúscula para simplificar\n",
        "      indice = alpha.index(char_minus)  #Encontramos el indice de la letra en el alfabeto\n",
        "      # Desplazamos la letra, usando módulo para que se mantenga dentro del rango (A-Z)\n",
        "      nuevo_indice = (indice + desplazamiento) % 26\n",
        "      nuevo_char = alpha[nuevo_indice]\n",
        "      if char.isupper(): # Si la letra original era mayúscula, la convertimos nuevamente a mayúscula\n",
        "        nuevo_char = nuevo_char.upper()\n",
        "      texto_cifrado.append(nuevo_char) #La letra nueva se agregara a la lista como caracter unico\n",
        "    else:\n",
        "      texto_cifrado.append(char) #Si no es una letra, lo agregamos tal cual (espacios, signos de puntuación, etc.)\n",
        "  Xn=alpha_base[desplazamiento]\n",
        "  pos=random.randint(0, len(list(texto_original))) #Posicion de DX\n",
        "  DX =(AD_DA+Xn) #DX es el orden y desplazamiento cesar\n",
        "  texto_cifrado.insert(pos, DX) #DX sera insertado en la lista en una \"pos\"icion random\n",
        "\n",
        "  salida=''.join(texto_cifrado) #''join agregara los elementos de la lista \"texto_cifrado\" a una cadena vacia\n",
        "  #transformandola efectivamente en una cadena\n",
        "\n",
        "  salidas=[salida, DX, pos] # [0] es la cadena cifrada\n",
        "  return salidas #salidas=[salida, DX, pos] (Guia de elementos)\n",
        "\n",
        "if __name__==\"__main__\":\n",
        "  texto_original = input(\"Texto a cifrar: \") #Hola Mundo!\n",
        "\n",
        "  texto_cifrado = cifrado_atedv2(texto_original) #La salida sera totalmente aleatorea\n",
        "\n",
        "  DX=texto_cifrado[1]\n",
        "  #Se desarman las reglas guardadas:\n",
        "  reglas=list(DX)\n",
        "  letra1 = alpha_base.index(reglas[0])\n",
        "  letra2 = alpha_base.index(reglas[1])\n",
        "  if letra1<letra2:\n",
        "    orden=\"AD\"\n",
        "  else: orden=\"DA\"\n",
        "  desplazamiento=alpha_base.index(reglas[2])\n",
        "  pos=texto_cifrado[2]\n",
        "\n",
        "  print(\"\\nTexto cifrado:\", texto_cifrado[0])\n",
        "  salida=texto_cifrado[0]\n",
        "  print(\"\\nescencialmente no se imprimiran:\")\n",
        "  print(\"Reglas guardadas: \",DX,\"\\nPosicion en cadena:\",pos)\n",
        "  #print(\"Orden: \",orden)\n",
        "  #print(\"desplazamiento: \", desplazamiento)\n",
        "  #Hola Buenos dias como estan gente aqui cifrando un mensaje con un viejo amigo, FELIZ LUNES"
      ]
    },
    {
      "cell_type": "markdown",
      "source": [
        "##Desencriptador:"
      ],
      "metadata": {
        "id": "oJn_drQ0Ybz0"
      }
    },
    {
      "cell_type": "code",
      "source": [
        "alpha_base = list(\"abcdefghijklmnopqrstuvwxyz\") #Alfabeto estandar\n",
        "def des_atedv2(salidad, DX, pos):\n",
        "  reglas=list(DX) #Se desarman las reglas guardadas\n",
        "  salida=list(salidad) #Tranformar la cadena cifrada en lista para facilitar 1 modificacion\n",
        "  #Esta parte definira el orden de alfabeto usado:\n",
        "  letra1 = alpha_base.index(reglas[0])\n",
        "  letra2 = alpha_base.index(reglas[1])\n",
        "  desplazamiento=alpha_base.index(reglas[2]) #La 3ra letra se transformara en un numero con esto\n",
        "  #cada letra tiene un indice definido en el alpha_base veremos cual va primero para definir el orden\n",
        "  if letra1<letra2:\n",
        "    orden=\"AD\"\n",
        "  else: orden=\"DA\"\n",
        "\n",
        "  for p in range(3):#Esto eliminara DX de la cadena (aqui aplica el porque de la conversion)\n",
        "    salida.pop(pos) #Quitara los caracteres de DX\n",
        "\n",
        "  salida=''.join(salida) #lo convertimos a cadena de nuevo para reciclar la funcion\n",
        "\n",
        "  #Consulta de orden y definicion de alfabeto:\n",
        "  if orden==\"AD\":\n",
        "    alfa=alpha_base\n",
        "  if orden==\"DA\":\n",
        "    alfa=list(\"zyxwvutsrqponmlkjihgfedcba\") #Alfabeto inverso en caso de \"DA\"\n",
        "  alpha = alfa #Alfabeto definido con el orden\n",
        "  texto_descifrado = [] # Los caracteres se guardaran en una lista de 1 en 1\n",
        "  for char in salida:  #Se repetira por la longitud de caracteres en el texto\n",
        "    if char.isalpha():  #Identificar si es una letra del alfabeto\n",
        "      char_minus = char.lower() # Convertimos la letra a minúscula para simplificar\n",
        "      indice = alpha.index(char_minus)  #Encontramos el indice de la letra en el alfabeto\n",
        "      # Desplazamos la letra, usando módulo para que se mantenga dentro del rango (A-Z)\n",
        "      nuevo_indice = (indice - desplazamiento) % 26 #Esta vez restandole el desplazamiento\n",
        "      nuevo_char = alpha[nuevo_indice] #La letra modificada\n",
        "      if char.isupper(): # Si la letra original era mayúscula, la convertimos nuevamente a mayúscula\n",
        "        nuevo_char = nuevo_char.upper()\n",
        "      texto_descifrado.append(nuevo_char) #La letra nueva se agregara a la lista como caracter unico\n",
        "    else:\n",
        "      texto_descifrado.append(char) #Si no es una letra, lo agregamos tal cual (espacios, signos de puntuación, etc.)\n",
        "\n",
        "  salida_f=''.join(texto_descifrado)\n",
        "\n",
        "  return salida_f\n",
        "if __name__==\"__main__\":\n",
        "  #salidas=[salida, DX, pos] (Guia de elementos)\n",
        "\n",
        "  texto_cifrado = input(\"Texto a desencriptar: \") #Hola Mundo!\n",
        "  salida=texto_cifrado\n",
        "  DX=input(\"DX en la cadena: \")\n",
        "  pos=int(input(\"poscicion de DX: \"))\n",
        "\n",
        "  texto_desencriptado = des_atedv2(salida, DX, pos) #La salida sera el texto original\n",
        "\n",
        "  print(\"\\nTexto cifrado:\", texto_cifrado)\n",
        "  print(\"\\nTexto desencriptado:\", texto_desencriptado)"
      ],
      "metadata": {
        "colab": {
          "base_uri": "https://localhost:8080/"
        },
        "id": "gSeAUnWoYWsL",
        "outputId": "01d57ca9-f2e2-40f3-dfc0-8ecdbd3439ba"
      },
      "execution_count": 3,
      "outputs": [
        {
          "output_type": "stream",
          "name": "stdout",
          "text": [
            "Texto a desencriptar: Ipmb Cvfopt glbejbt dpnp ftubo hfouf brvj djgsboep vo nfotbkf dpo vo wjfkp bnjhp, GFMJA MVOFT\n",
            "DX en la cadena: glb\n",
            "poscicion de DX: 12\n",
            "\n",
            "Texto cifrado: Ipmb Cvfopt glbejbt dpnp ftubo hfouf brvj djgsboep vo nfotbkf dpo vo wjfkp bnjhp, GFMJA MVOFT\n",
            "\n",
            "Texto desencriptado: Hola Buenos dias como estan gente aqui cifrando un mensaje con un viejo amigo, FELIZ LUNES\n"
          ]
        }
      ]
    }
  ]
}